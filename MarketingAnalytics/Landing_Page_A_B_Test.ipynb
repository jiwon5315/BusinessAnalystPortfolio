{
  "nbformat": 4,
  "nbformat_minor": 0,
  "metadata": {
    "colab": {
      "provenance": [],
      "authorship_tag": "ABX9TyOmblKgC0VPFOwgwaknY7Ea",
      "include_colab_link": true
    },
    "kernelspec": {
      "name": "ir",
      "display_name": "R"
    },
    "language_info": {
      "name": "R"
    }
  },
  "cells": [
    {
      "cell_type": "markdown",
      "metadata": {
        "id": "view-in-github",
        "colab_type": "text"
      },
      "source": [
        "<a href=\"https://colab.research.google.com/github/jiwon5315/BusinessAnalystPortfolio/blob/main/MarketingAnalytics/Landing_Page_A_B_Test.ipynb\" target=\"_parent\"><img src=\"https://colab.research.google.com/assets/colab-badge.svg\" alt=\"Open In Colab\"/></a>"
      ]
    },
    {
      "cell_type": "markdown",
      "source": [
        "**DataCamp Competition**: Which version of the website should you use?\n",
        "\n",
        "📖 **Background**\n",
        "You work for an early-stage startup in Germany. Your team has been working on a redesign of the landing page. The team believes a new design will increase the number of people who click through and join your site.\n",
        "\n",
        "They have been testing the changes for a few weeks, and now they want to measure the impact of the change and need you to determine if the increase can be due to random chance or if it is statistically significant.\n",
        "\n",
        "💾 **The data**\n",
        "The team assembled the following file:\n",
        "- \"treatment\" - \"yes\" if the user saw the new version of the landing page, no otherwise.\n",
        "- \"new_images\" - \"yes\" if the page used a new set of images, no otherwise.\n",
        "- \"converted\" - 1 if the user joined the site, 0 otherwise.\n",
        "\n",
        "The control group is those users with \"no\" in both columns: the old version with the old set of images.\n",
        "\n",
        "✅ **Goal**\n",
        "1. Analyze the conversion rates for each of the four groups: the new/old design of the landing page and the new/old pictures.\n",
        "2. Can the increases observed be explained by randomness? (Hint: Think A/B test)\n",
        "3. Which version of the website should they use?"
      ],
      "metadata": {
        "id": "1XIhX36KHMI5"
      }
    },
    {
      "cell_type": "code",
      "execution_count": 12,
      "metadata": {
        "id": "qJlv0P9Jgpnh",
        "colab": {
          "base_uri": "https://localhost:8080/",
          "height": 445
        },
        "outputId": "64016cb9-b283-4f21-9640-3e192ae4b234"
      },
      "outputs": [
        {
          "output_type": "stream",
          "name": "stderr",
          "text": [
            "Installing package into ‘/usr/local/lib/R/site-library’\n",
            "(as ‘lib’ is unspecified)\n",
            "\n",
            "also installing the dependencies ‘listenv’, ‘parallelly’, ‘future’, ‘globals’, ‘shape’, ‘future.apply’, ‘numDeriv’, ‘progressr’, ‘SQUAREM’, ‘diagram’, ‘lava’, ‘prodlim’, ‘proxy’, ‘iterators’, ‘Rcpp’, ‘clock’, ‘gower’, ‘hardhat’, ‘ipred’, ‘timeDate’, ‘e1071’, ‘foreach’, ‘ModelMetrics’, ‘plyr’, ‘pROC’, ‘recipes’, ‘reshape2’\n",
            "\n",
            "\n",
            "Loading required package: lattice\n",
            "\n"
          ]
        },
        {
          "output_type": "display_data",
          "data": {
            "text/html": [
              "<table class=\"dataframe\">\n",
              "<caption>A data.frame: 6 × 3</caption>\n",
              "<thead>\n",
              "\t<tr><th></th><th scope=col>treatment</th><th scope=col>new_images</th><th scope=col>converted</th></tr>\n",
              "\t<tr><th></th><th scope=col>&lt;chr&gt;</th><th scope=col>&lt;chr&gt;</th><th scope=col>&lt;int&gt;</th></tr>\n",
              "</thead>\n",
              "<tbody>\n",
              "\t<tr><th scope=row>1</th><td>yes</td><td>yes</td><td>0</td></tr>\n",
              "\t<tr><th scope=row>2</th><td>yes</td><td>yes</td><td>0</td></tr>\n",
              "\t<tr><th scope=row>3</th><td>yes</td><td>yes</td><td>0</td></tr>\n",
              "\t<tr><th scope=row>4</th><td>yes</td><td>no </td><td>0</td></tr>\n",
              "\t<tr><th scope=row>5</th><td>no </td><td>yes</td><td>0</td></tr>\n",
              "\t<tr><th scope=row>6</th><td>yes</td><td>no </td><td>0</td></tr>\n",
              "</tbody>\n",
              "</table>\n"
            ],
            "text/markdown": "\nA data.frame: 6 × 3\n\n| <!--/--> | treatment &lt;chr&gt; | new_images &lt;chr&gt; | converted &lt;int&gt; |\n|---|---|---|---|\n| 1 | yes | yes | 0 |\n| 2 | yes | yes | 0 |\n| 3 | yes | yes | 0 |\n| 4 | yes | no  | 0 |\n| 5 | no  | yes | 0 |\n| 6 | yes | no  | 0 |\n\n",
            "text/latex": "A data.frame: 6 × 3\n\\begin{tabular}{r|lll}\n  & treatment & new\\_images & converted\\\\\n  & <chr> & <chr> & <int>\\\\\n\\hline\n\t1 & yes & yes & 0\\\\\n\t2 & yes & yes & 0\\\\\n\t3 & yes & yes & 0\\\\\n\t4 & yes & no  & 0\\\\\n\t5 & no  & yes & 0\\\\\n\t6 & yes & no  & 0\\\\\n\\end{tabular}\n",
            "text/plain": [
              "  treatment new_images converted\n",
              "1 yes       yes        0        \n",
              "2 yes       yes        0        \n",
              "3 yes       yes        0        \n",
              "4 yes       no         0        \n",
              "5 no        yes        0        \n",
              "6 yes       no         0        "
            ]
          },
          "metadata": {}
        }
      ],
      "source": [
        "#Load packages and dataset\n",
        "library(tidyr)\n",
        "library(ggplot2)\n",
        "install.packages('caret')\n",
        "library(caret)\n",
        "df <- read.csv('redesign.csv')\n",
        "head(df)"
      ]
    },
    {
      "cell_type": "code",
      "source": [
        "#How many people converted overall?\n",
        "converted_yes <- df %>% count(df$converted > 0)\n",
        "converted_yes"
      ],
      "metadata": {
        "colab": {
          "base_uri": "https://localhost:8080/",
          "height": 160
        },
        "id": "mTWi8BdHNitl",
        "outputId": "726fb982-75ac-4116-d782-9b3eb82d550d"
      },
      "execution_count": 37,
      "outputs": [
        {
          "output_type": "display_data",
          "data": {
            "text/html": [
              "<table class=\"dataframe\">\n",
              "<caption>A data.frame: 2 × 2</caption>\n",
              "<thead>\n",
              "\t<tr><th scope=col>df$converted &gt; 0</th><th scope=col>n</th></tr>\n",
              "\t<tr><th scope=col>&lt;lgl&gt;</th><th scope=col>&lt;int&gt;</th></tr>\n",
              "</thead>\n",
              "<tbody>\n",
              "\t<tr><td>FALSE</td><td>35895</td></tr>\n",
              "\t<tr><td> TRUE</td><td> 4589</td></tr>\n",
              "</tbody>\n",
              "</table>\n"
            ],
            "text/markdown": "\nA data.frame: 2 × 2\n\n| df$converted &gt; 0 &lt;lgl&gt; | n &lt;int&gt; |\n|---|---|\n| FALSE | 35895 |\n|  TRUE |  4589 |\n\n",
            "text/latex": "A data.frame: 2 × 2\n\\begin{tabular}{ll}\n df\\$converted > 0 & n\\\\\n <lgl> & <int>\\\\\n\\hline\n\t FALSE & 35895\\\\\n\t  TRUE &  4589\\\\\n\\end{tabular}\n",
            "text/plain": [
              "  df$converted > 0 n    \n",
              "1 FALSE            35895\n",
              "2  TRUE             4589"
            ]
          },
          "metadata": {}
        }
      ]
    },
    {
      "cell_type": "markdown",
      "source": [
        "Almost **13%** of the people converted - meaning that they clicked on the landing page and joined the site! Considering that the average landing page conversion rate across all industries is 5.89% ([HubSpot](https://blog.hubspot.com/marketing/landing-page-stats#:~:text=The%20average%20landing%20page%20conversion,you%20and%20your%20target%20audience.)), this is a great performance rate.\n",
        "Now the question is *which version of the landing page was more effective?*"
      ],
      "metadata": {
        "id": "bYUummIKRJh-"
      }
    },
    {
      "cell_type": "code",
      "source": [
        "treatment_yes <- df %>% subset(treatment==\"yes\")\n",
        "treatment_no <- df %>% subset(treatment==\"no\")\n",
        "treatment_converted <- sum(treatment_yes$converted)\n",
        "notreatment_converted <- sum(treatment_no$converted)\n",
        "#The new landing page has a conversion rate of 11.69%\n",
        "#The original landing page has a conversion rate of 10.98%\n",
        "viz <- df %>% group_by(treatment) %>%\n",
        "  summarize(sum_converted = sum(converted))\n",
        "annotation <- data.frame(\n",
        "   x = c(1,2),\n",
        "   y = c(1500,1500),\n",
        "   label = c(\"2223 (10.98%)\", \"2366 (11.69%)\")\n",
        ")\n",
        "\n",
        "# Bar plot for conversion\n",
        "ggplot(viz, aes(x = treatment, y = sum_converted)) +\n",
        "  geom_bar(stat = \"identity\", fill = \"skyblue\", color = \"black\") +\n",
        "  labs(title = \"Number of Landing Page Conversion\",\n",
        "       x = \"New Landing Page?\",\n",
        "       y = \"Sum of Converted\") +\n",
        "geom_text(data=annotation, aes( x=x, y=y, label=label),                 ,\n",
        "      color=\"black\",\n",
        "      size=6 )\n"
      ],
      "metadata": {
        "colab": {
          "base_uri": "https://localhost:8080/",
          "height": 437
        },
        "id": "-mQ2gcgRV9JL",
        "outputId": "4473f117-16c0-452c-f3b1-9d11cca3e381"
      },
      "execution_count": 159,
      "outputs": [
        {
          "output_type": "display_data",
          "data": {
            "text/plain": [
              "plot without title"
            ],
            "image/png": "[encoded data removed]"
          },
          "metadata": {
            "image/png": {
              "width": 420,
              "height": 420
            }
          }
        }
      ]
    },
    {
      "cell_type": "markdown",
      "source": [
        "There were 20,242 people in both groups, but the new landing page had more people click and sign up - **143 people** to be exact. But does this really mean that the new landing page was better or could this result be by random chance? *In other words, is this number statistically significant for us to justify switching to the new landing page?*"
      ],
      "metadata": {
        "id": "NLgrxgPxcCs5"
      }
    },
    {
      "cell_type": "code",
      "source": [
        "# Original landing page with old pictures\n",
        "control_old <- df %>%\n",
        "    filter(treatment == \"no\" & new_images == \"no\")\n",
        "converted_co <- sum(control_old$converted)\n",
        "rate_co <- round(sum(control_old$converted)/count(control_old)*100,2)\n",
        "print(\"Results for Original Landing Page with Old Pictures\")\n",
        "print(paste0(\"▷ Number of ppl converted: \", converted_co))\n",
        "print(paste0(\"▷ Conversion rate:  \", rate_co, \"%\"))\n",
        "\n",
        "#Original landing page with new pictures\n",
        "control_new <- df %>%\n",
        "    filter(treatment == \"no\" & new_images == \"yes\")\n",
        "converted_cn <- sum(control_new$converted)\n",
        "rate_cn <- round(sum(control_new$converted)/count(control_new)*100,2)\n",
        "lift_cn <- round((rate_cn-rate_co)/rate_co*100,2)\n",
        "print(\"Results for Original Landing Page with New Pictures\")\n",
        "print(paste0(\"▷ Number of ppl converted: \", converted_cn))\n",
        "print(paste0(\"▷ Conversion rate:  \", rate_cn, \"%\"))\n",
        "print(paste0(\"▷ Conversion Lift: \", lift_cn,\"%\"))\n",
        "\n",
        "#New landing page with old pictures\n",
        "treatment_old <- df %>%\n",
        "    filter(treatment == \"yes\" & new_images == \"no\")\n",
        "converted_to <- sum(treatment_old$converted)\n",
        "rate_to <- round(sum(treatment_old$converted)/count(treatment_old)*100,2)\n",
        "lift_to <- round((rate_to-rate_co)/rate_co*100,2)\n",
        "print(\"Results for New Landing Page with Old Pictures\")\n",
        "print(paste0(\"▷ Number of ppl converted: \", converted_to))\n",
        "print(paste0(\"▷ Conversion rate:  \", rate_to, \"%\"))\n",
        "print(paste0(\"▷ Conversion Lift: \", lift_to,\"%\"))\n",
        "\n",
        "#New landing page with new pictures\n",
        "treatment_new <- df %>%\n",
        "    filter(treatment == \"yes\" & new_images == \"yes\")\n",
        "converted_tn <- sum(treatment_new$converted)\n",
        "rate_tn <- round(sum(treatment_new$converted)/count(treatment_new)*100,2)\n",
        "lift_tn <- round((rate_tn-rate_co)/rate_co*100,2)\n",
        "print(\"Results for New Landing Page with New Pictures\")\n",
        "print(paste0(\"▷ Number of ppl converted: \", converted_tn))\n",
        "print(paste0(\"▷ Conversion rate:  \", rate_tn, \"%\"))\n",
        "print(paste0(\"▷ Conversion Lift: \", lift_tn,\"%\"))"
      ],
      "metadata": {
        "colab": {
          "base_uri": "https://localhost:8080/"
        },
        "id": "hb5SMRdxeXrE",
        "outputId": "21e64dff-b0c5-4d22-9a39-66bde0658cba"
      },
      "execution_count": 105,
      "outputs": [
        {
          "output_type": "stream",
          "name": "stdout",
          "text": [
            "[1] \"Results for Original Landing Page with Old Pictures\"\n",
            "[1] \"▷ Number of ppl converted: 1084\"\n",
            "[1] \"▷ Conversion rate:  10.71%\"\n",
            "[1] \"Results for Original Landing Page with New Pictures\"\n",
            "[1] \"▷ Number of ppl converted: 1139\"\n",
            "[1] \"▷ Conversion rate:  11.25%\"\n",
            "[1] \"▷ Conversion Lift: 5.04%\"\n",
            "[1] \"Results for New Landing Page with Old Pictures\"\n",
            "[1] \"▷ Number of ppl converted: 1215\"\n",
            "[1] \"▷ Conversion rate:  12%\"\n",
            "[1] \"▷ Conversion Lift: 12.04%\"\n",
            "[1] \"Results for New Landing Page with New Pictures\"\n",
            "[1] \"▷ Number of ppl converted: 1151\"\n",
            "[1] \"▷ Conversion rate:  11.37%\"\n",
            "[1] \"▷ Conversion Lift: 6.16%\"\n"
          ]
        }
      ]
    },
    {
      "cell_type": "markdown",
      "source": [
        "Conversion lift tests help you measure how many of your conversions are directly caused by the changes. Our baseline is the original landing page with old photos; it had a conversion rate of 10.71%.\n",
        "\n",
        "To calculate the lift, we subtract the treatment conversion rate and the control conversation rate divided by the control conversion rate. Compared to the baseline, we can see that the **new landing page with old pictures had a lift of 12.04%**. This means the changes made achieved a 12% greater conversion rate compared to the baseline. Since other variations only produced 5-6% lift, this is considerably higher."
      ],
      "metadata": {
        "id": "1NW8R2ti73E9"
      }
    },
    {
      "cell_type": "code",
      "source": [
        "#Perform one-way ANOVA\n",
        "model <- aov(converted ~ treatment + new_images, data = df)\n",
        "summary(model)"
      ],
      "metadata": {
        "colab": {
          "base_uri": "https://localhost:8080/",
          "height": 121
        },
        "id": "bEjQBdPU70VN",
        "outputId": "65030375-dd2c-4113-aa68-5437fb4d80b3"
      },
      "execution_count": 110,
      "outputs": [
        {
          "output_type": "display_data",
          "data": {
            "text/plain": [
              "               Df Sum Sq Mean Sq F value Pr(>F)  \n",
              "treatment       1      1  0.5051   5.026  0.025 *\n",
              "new_images      1      0  0.0020   0.020  0.888  \n",
              "Residuals   40481   4068  0.1005                 \n",
              "---\n",
              "Signif. codes:  0 ‘***’ 0.001 ‘**’ 0.01 ‘*’ 0.05 ‘.’ 0.1 ‘ ’ 1"
            ]
          },
          "metadata": {}
        }
      ]
    },
    {
      "cell_type": "code",
      "source": [
        "#T-Test for Treatment\n",
        "df$treatment <- factor(df$treatment)\n",
        "yes_data <- df[df$treatment == \"yes\", \"converted\"]  # converted values for treatment \"yes\"\n",
        "no_data <- df[df$treatment == \"no\", \"converted\"]    # converted values for treatment \"no\"\n",
        "t.test(yes_data, no_data)\n",
        "#T-Test for new_images in New Landing Pages\n",
        "treatment_yes$new_images <- factor(treatment_yes$new_images)\n",
        "yes_photos <- treatment_yes[treatment_yes$new_images == \"yes\", \"converted\"]  # converted values for new_images \"yes\"\n",
        "no_photos <- treatment_yes[treatment_yes$new_images == \"no\", \"converted\"]    # converted values for old_images \"no\"\n",
        "t.test(yes_photos, no_photos)\n",
        "#T-Test for new_images Overall (Old & New Landing Pages)\n",
        "df$new_images <- factor(df$new_images)\n",
        "yes_photos_df <- df[df$new_images == \"yes\", \"converted\"]  # converted values for new_images \"yes\"\n",
        "no_photos_df <- df[df$new_images == \"no\", \"converted\"]    # converted values for old_images \"no\"\n",
        "t.test(yes_photos_df, no_photos_df)"
      ],
      "metadata": {
        "colab": {
          "base_uri": "https://localhost:8080/",
          "height": 590
        },
        "id": "R6y7vmucL4Qq",
        "outputId": "ce6d1c75-da47-4e1a-d92d-5e77503f08ee"
      },
      "execution_count": 115,
      "outputs": [
        {
          "output_type": "display_data",
          "data": {
            "text/plain": [
              "\n",
              "\tWelch Two Sample t-test\n",
              "\n",
              "data:  yes_data and no_data\n",
              "t = 2.2419, df = 40452, p-value = 0.02497\n",
              "alternative hypothesis: true difference in means is not equal to 0\n",
              "95 percent confidence interval:\n",
              " 0.000888257 0.013240782\n",
              "sample estimates:\n",
              "mean of x mean of y \n",
              "0.1168857 0.1098212 \n"
            ]
          },
          "metadata": {}
        },
        {
          "output_type": "display_data",
          "data": {
            "text/plain": [
              "\n",
              "\tWelch Two Sample t-test\n",
              "\n",
              "data:  yes_photos and no_photos\n",
              "t = -1.4001, df = 20229, p-value = 0.1615\n",
              "alternative hypothesis: true difference in means is not equal to 0\n",
              "95 percent confidence interval:\n",
              " -0.015176006  0.002529034\n",
              "sample estimates:\n",
              "mean of x mean of y \n",
              "0.1137239 0.1200474 \n"
            ]
          },
          "metadata": {}
        },
        {
          "output_type": "display_data",
          "data": {
            "text/plain": [
              "\n",
              "\tWelch Two Sample t-test\n",
              "\n",
              "data:  yes_photos_df and no_photos_df\n",
              "t = -0.14109, df = 40482, p-value = 0.8878\n",
              "alternative hypothesis: true difference in means is not equal to 0\n",
              "95 percent confidence interval:\n",
              " -0.006621264  0.005732024\n",
              "sample estimates:\n",
              "mean of x mean of y \n",
              "0.1131311 0.1135757 \n"
            ]
          },
          "metadata": {}
        }
      ]
    },
    {
      "cell_type": "markdown",
      "source": [
        "'Treatment' has a p-value of 0.025, which means that **there is statistical difference between the control and treatment group**. On the other hand, 'new_images' had a p-value higher than 0.05, which means there is lack of evidence for us to dismiss the null hypothesis; there is no significant difference between old and new images used."
      ],
      "metadata": {
        "id": "BRXKa8-eKpcM"
      }
    },
    {
      "cell_type": "markdown",
      "source": [
        "**Conclusion:** With a 12% uplift rate and statistically significant difference between control and treatment group, the company should use the new landing page with the old photos.\n",
        "\n"
      ],
      "metadata": {
        "id": "t2hOaGUgeet2"
      }
    }
  ]
}