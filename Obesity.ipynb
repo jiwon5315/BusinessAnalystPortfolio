{
  "nbformat": 4,
  "nbformat_minor": 0,
  "metadata": {
    "colab": {
      "provenance": [],
      "authorship_tag": "ABX9TyORBkzXoU2yQxaD7CSukRoK",
      "include_colab_link": true
    },
    "kernelspec": {
      "name": "ir",
      "display_name": "R"
    },
    "language_info": {
      "name": "R"
    }
  },
  "cells": [
    {
      "cell_type": "markdown",
      "metadata": {
        "id": "view-in-github",
        "colab_type": "text"
      },
      "source": [
        "<a href=\"https://colab.research.google.com/github/jiwon5315/BusinessAnalystPortfolio/blob/main/Obesity.ipynb\" target=\"_parent\"><img src=\"https://colab.research.google.com/assets/colab-badge.svg\" alt=\"Open In Colab\"/></a>"
      ]
    },
    {
      "cell_type": "markdown",
      "source": [
        "**Dataset Overview**\n",
        "- Dataset: Obesity.txt\n",
        "- Purpose: Predict people's stage of diabetes\n",
        "- Number of observations: 2111\n",
        "\n",
        "- Number of predictor variables: 16\n",
        "- Categorical variables (8): gender, family history, favc, caec, smoke, scc, calc, mtrans\n",
        "- Quantitative variables (8): age, height, weight, fcvc, ncp, ch20, faf, tue"
      ],
      "metadata": {
        "id": "Qp25MsgXPWzr"
      }
    },
    {
      "cell_type": "markdown",
      "source": [
        "STEP 1: Load 'obesity' dataset and R package libraries"
      ],
      "metadata": {
        "id": "iYhmBmJzH0ml"
      }
    },
    {
      "cell_type": "code",
      "source": [
        "install.packages(\"car\")\n",
        "install.packages(\"caret\")\n",
        "install.packages(\"class\")\n",
        "install.packages(\"tree\")\n",
        "install.packages(\"rpart\")\n",
        "install.packages(\"rpart.plot\")\n",
        "install.packages(\"randomForest\")\n",
        "install.packages(\"party\")\n",
        "install.packages(\"FNN\")\n",
        "install.packages(\"ggplot2\")\n",
        "library(car)\n",
        "library(caret)\n",
        "library(class)\n",
        "library(tree)\n",
        "library(rpart)\n",
        "library(rpart.plot)\n",
        "library(randomForest)\n",
        "library(party)\n",
        "library(FNN)\n",
        "library(ggplot2)"
      ],
      "metadata": {
        "id": "T6OLcxW2NZuq",
        "colab": {
          "base_uri": "https://localhost:8080/"
        },
        "outputId": "aa617bb9-2c87-43b9-8fc1-457ab01b6dab"
      },
      "execution_count": null,
      "outputs": [
        {
          "output_type": "stream",
          "name": "stderr",
          "text": [
            "Installing package into ‘/usr/local/lib/R/site-library’\n",
            "(as ‘lib’ is unspecified)\n",
            "\n",
            "also installing the dependencies ‘SparseM’, ‘MatrixModels’, ‘minqa’, ‘nloptr’, ‘Rcpp’, ‘RcppEigen’, ‘carData’, ‘abind’, ‘pbkrtest’, ‘quantreg’, ‘lme4’\n",
            "\n",
            "\n"
          ]
        }
      ]
    },
    {
      "cell_type": "markdown",
      "source": [
        "STEP 2: Factor categorical variables"
      ],
      "metadata": {
        "id": "LTzXgZDFJQIe"
      }
    },
    {
      "cell_type": "code",
      "source": [
        "obesity <- read.table('Obesity.txt',header=TRUE)\n",
        "factor_variables <- c(\"Gender\",\"family_history_with_overweight\", \"FAVC\",\"CAEC\",\n",
        "                      \"SMOKE\",\"SCC\",\"CALC\",\"MTRANS\")\n",
        "for (x in factor_variables) {\n",
        "  obesity[[x]] <- as.factor(obesity[[x]])\n",
        "}\n",
        "obesity$NObeyesdad <- factor(obesity$NObeyesdad, level=c(\"Insufficient_Weight\",\"Normal_Weight\",\n",
        "                        \"Overweight_Level_I\",\"Overweight_Level_II\",\"Obesity_Type_I\",\n",
        "                        \"Obesity_Type_II\",\"Obesity_Type_III\"))"
      ],
      "metadata": {
        "id": "pJTpw2sKJVOS"
      },
      "execution_count": null,
      "outputs": []
    },
    {
      "cell_type": "markdown",
      "source": [
        "STEP 3: Rename column names and create dummy variables"
      ],
      "metadata": {
        "id": "a_2lmQiMJaQR"
      }
    },
    {
      "cell_type": "code",
      "source": [
        "colnames(obesity) <- c(\"Gender\",\"Age\",\"Height\",\"Weight\",\"Fam_History\",\"Diet_HighCal\",\n",
        "                       \"Diet_Veg\",\"Num_Meals\",\"Snacks\",\"Smoke\",\"Water\",\"Monitor\",\n",
        "                       \"Exercise\",\"Tech\",\"Alcohol\",\"Transportation\",\"Diabetic\")"
      ],
      "metadata": {
        "id": "wvyhr2MSJk84"
      },
      "execution_count": null,
      "outputs": []
    },
    {
      "cell_type": "markdown",
      "source": [
        "STEP 4: Partition data into train and test sets (75%-25%)"
      ],
      "metadata": {
        "id": "m2LN0xjgJqH7"
      }
    },
    {
      "cell_type": "code",
      "source": [
        "set.seed(50)\n",
        "train_index <- createDataPartition(obesity$Diabetic,p=.75,list = F)\n",
        "data_train <- obesity[ train_index,] #1586 rows\n",
        "data_test <- obesity[-train_index,] #525 rows"
      ],
      "metadata": {
        "id": "XcCOtyYkJsfy",
        "colab": {
          "base_uri": "https://localhost:8080/",
          "height": 72
        },
        "outputId": "f96e67de-69f4-4c59-cea5-1694e4126a97"
      },
      "execution_count": null,
      "outputs": [
        {
          "output_type": "error",
          "ename": "ERROR",
          "evalue": "Error in createDataPartition(obesity$Diabetic, p = 0.75, list = F): could not find function \"createDataPartition\"\n",
          "traceback": [
            "Error in createDataPartition(obesity$Diabetic, p = 0.75, list = F): could not find function \"createDataPartition\"\nTraceback:\n"
          ]
        }
      ]
    },
    {
      "cell_type": "markdown",
      "source": [
        "STEP 5: PreProcess"
      ],
      "metadata": {
        "id": "BkhVoeGjJv88"
      }
    },
    {
      "cell_type": "code",
      "source": [
        "#--Since the outcome variable is categorical, predictors were not separated\n",
        "preprocess_params <- preProcess(data_train, method = c(\"knnImpute\",\"center\", \"scale\"))\n",
        "train_pred <- data_train[,-17]\n",
        "test_pred <- data_test[,-17]\n",
        "train_outcome <- data_train$Diabetic\n",
        "test_outcome <- data_test$Diabetic\n",
        "trainP_normalized <- predict(preprocess_params, train_pred)\n",
        "testP_normalized <- predict(preprocess_params, test_pred)\n",
        "train_normalized <- data.frame(trainP_normalized,data_train$Diabetic)\n",
        "test_normalized <- data.frame(testP_normalized,data_test$Diabetic)"
      ],
      "metadata": {
        "id": "jYDWvOrsJ14o",
        "colab": {
          "base_uri": "https://localhost:8080/",
          "height": 72
        },
        "outputId": "220b68d5-0859-4481-eaef-3e815b5ae93f"
      },
      "execution_count": null,
      "outputs": [
        {
          "output_type": "error",
          "ename": "ERROR",
          "evalue": "Error in preProcess(data_train, method = c(\"knnImpute\", \"center\", \"scale\")): could not find function \"preProcess\"\n",
          "traceback": [
            "Error in preProcess(data_train, method = c(\"knnImpute\", \"center\", \"scale\")): could not find function \"preProcess\"\nTraceback:\n"
          ]
        }
      ]
    },
    {
      "cell_type": "markdown",
      "source": [
        "STEP 6: Cross Validation"
      ],
      "metadata": {
        "id": "sqxGsa1QJ7ET"
      }
    },
    {
      "cell_type": "code",
      "source": [
        "ctrl=trainControl(method = \"repeatedcv\", number = 10, repeats=5)"
      ],
      "metadata": {
        "id": "JwGaJLJnKAIy"
      },
      "execution_count": null,
      "outputs": []
    },
    {
      "cell_type": "markdown",
      "source": [
        "STEP 7: Build Models"
      ],
      "metadata": {
        "id": "_oZHswYlKCgw"
      }
    },
    {
      "cell_type": "code",
      "source": [
        "##--Decision Tree (Accuracy: 0.5524, NIR: 0.1657, P-value: Significant)\n",
        "#set.seed(5)\n",
        "class.tree <- rpart(data_train.Diabetic ~., data=train_normalized, control=rpart.control(maxdepth=2),\n",
        "                    method=\"class\")\n",
        "\n",
        "prp(class.tree,type=1,extra=1,split.font=1,varlen=-10)\n",
        "\n",
        "###----Prune by lower cp\n",
        "pruned.ct <- prune(class.tree, cp = class.tree$cptable[which.min(class.tree$cptable[,\"xerror\"]),\"CP\"])\n",
        "prp(pruned.ct, type=1, extra=1, split.font=1, varlen=-10)\n",
        "pruned_pred_test <- predict(pruned.ct, test_normalized[,-17], type=\"class\")\n",
        "confusionMatrix(pruned_pred_test,test_normalized$data_test.Diabetic)\n",
        "\n",
        "###----Variable Importance plot\n",
        "varImp(pruned.ct)\n",
        "plot(varImp(cv.tree),main=\"Decision Tree Model's Variable Importance Plot\")\n",
        "\n",
        "##--KNN Model (Accuracy: 0.8324, NIR: 0.1657, P-value: Significant)\n",
        "#set.seed(3)\n",
        "knnModel <- train(\n",
        "  data_train.Diabetic ~ .,\n",
        "  data = train_normalized,\n",
        "  method = \"knn\",\n",
        "  trControl = ctrl,\n",
        "  tuneGrid = data.frame(k = c(3,5,7,10))\n",
        ")\n",
        "\n",
        "knnModel$finalModel #best k=3\n",
        "\n",
        "best_knnModel <- train(\n",
        "  data_train.Diabetic ~ .,\n",
        "  data = train_normalized,\n",
        "  method = \"knn\",\n",
        "  trControl = ctrl,\n",
        "  tuneGrid = data.frame(k = c(3))\n",
        ")\n",
        "\n",
        "knn_pred_test <- predict(best_knnModel, test_normalized[,-17])\n",
        "confusionMatrix(knn_pred_test,test_normalized$data_test.Diabetic)\n",
        "\n",
        "###----Variable Importance plot\n",
        "varImp(best_knnModel)\n",
        "plot(varImp(best_knnModel),main=\"KNN Model's Variable Importance Plot\")\n",
        "\n",
        "##--Bagged Decision Tree (Accuracy: 0.9584905, NIR: 0.1657, P-value: Significant)\n",
        "#set.seed(123)\n",
        "cv.bagged.tree=train(x=trainP_normalized,y=train_outcome,\n",
        "                     method='treebag',trControl=ctrl)\n",
        "cv.bagged.tree\n",
        "\n",
        "pred.bagged.tree=predict(cv.bagged.tree, testP_normalized)\n",
        "\n",
        "cv.bagged.tree$results\n",
        "conf_matrix <- confusionMatrix(data=pred.bagged.tree,test_outcome)\n",
        "\n",
        "###----Variable Importance plot\n",
        "varImp(cv.bagged.tree)\n",
        "plot(varImp(cv.bagged.tree),main=\"Bagged Trees Model's Variable Importance Plot\")\n",
        "\n",
        "###----Misclassification Rate\n",
        "# Extract elements from the confusion matrix\n",
        "conf_matrix_table <- conf_matrix$table\n",
        "total <- sum(conf_matrix_table)\n",
        "\n",
        "# Calculate misclassification rate for a 7-class problem\n",
        "misclassification_rate <- (total - sum(diag(conf_matrix_table))) / total\n",
        "\n",
        "# Print misclassification rate\n",
        "print(misclassification_rate)"
      ],
      "metadata": {
        "id": "_IpPMPkwLGDy"
      },
      "execution_count": null,
      "outputs": []
    },
    {
      "cell_type": "markdown",
      "source": [
        "STEP 8: Partial Dependence Plots"
      ],
      "metadata": {
        "id": "z4-8g_RxLNbP"
      }
    },
    {
      "cell_type": "code",
      "source": [
        "pred.prob.insufficient <- function(object, newdata) {\n",
        "  pred<-predict(object,newdata,type=\"prob\")\n",
        "  prob.insufficient=pred[,1]\n",
        "  mean(prob.insufficient)\n",
        "}\n",
        "\n",
        "pred.prob.normal <- function(object, newdata) {\n",
        "  pred<-predict(object,newdata,type=\"prob\")\n",
        "  prob.normal=pred[,2]\n",
        "  mean(prob.normal)\n",
        "}\n",
        "\n",
        "pred.prob.overL1 <- function(object, newdata) {\n",
        "  pred<-predict(object,newdata,type=\"prob\")\n",
        "  prob.overL1=pred[,3]\n",
        "  mean(prob.overL1)\n",
        "}\n",
        "\n",
        "pred.prob.overL2 <- function(object, newdata) {\n",
        "  pred<-predict(object,newdata,type=\"prob\")\n",
        "  prob.overL2=pred[,4]\n",
        "  mean(prob.overL2)\n",
        "}\n",
        "\n",
        "pred.prob.obT1 <- function(object, newdata) {\n",
        "  pred<-predict(object,newdata,type=\"prob\")\n",
        "  prob.obT1=pred[,5]\n",
        "  mean(prob.obT1)\n",
        "}\n",
        "\n",
        "pred.prob.obT2 <- function(object, newdata) {\n",
        "  pred<-predict(object,newdata,type=\"prob\")\n",
        "  prob.obT2=pred[,6]\n",
        "  mean(prob.obT2)\n",
        "}\n",
        "\n",
        "pred.prob.obT3 <- function(object, newdata) {\n",
        "  pred<-predict(object,newdata,type=\"prob\")\n",
        "  prob.obT3=pred[,7]\n",
        "  mean(prob.obT3)\n",
        "}\n",
        "\n",
        "###----Weight\n",
        "library(pdp)\n",
        "library(ggplot2)\n",
        "pdp.insuf.weight <- partial(cv.bagged.tree, pred.var = c(\"Weight\"),\n",
        "                          pred.fun = pred.prob.insufficient, plot = FALSE)\n",
        "pdp.norm.weight <- partial(cv.bagged.tree, pred.var = c(\"Weight\"),\n",
        "                          pred.fun = pred.prob.normal, plot = FALSE)\n",
        "pdp.overL1.weight <- partial(cv.bagged.tree, pred.var = c(\"Weight\"),\n",
        "                          pred.fun = pred.prob.overL1, plot = FALSE)\n",
        "pdp.overL2.weight <- partial(cv.bagged.tree, pred.var = c(\"Weight\"),\n",
        "                             pred.fun = pred.prob.overL2, plot = FALSE)\n",
        "pdp.obT1.weight <- partial(cv.bagged.tree, pred.var = c(\"Weight\"),\n",
        "                             pred.fun = pred.prob.obT1, plot = FALSE)\n",
        "pdp.obT2.weight <- partial(cv.bagged.tree, pred.var = c(\"Weight\"),\n",
        "                             pred.fun = pred.prob.obT2, plot = FALSE)\n",
        "pdp.obT3.weight <- partial(cv.bagged.tree, pred.var = c(\"Weight\"),\n",
        "                           pred.fun = pred.prob.obT3, plot = FALSE)\n",
        "\n",
        "plot(pdp.insuf.weight$Weight,pdp.insuf.weight$yhat,\"l\",lwd=2,\n",
        "     col=\"cyan\",main=\"PDP Plot for Weight\",xlab=\"Weight\",ylab=\"Estimated probabilities\",\n",
        "     ylim=c(0,0.9))\n",
        "lines(pdp.norm.weight$Weight,pdp.norm.weight$yhat,lwd=2,col=\"azure2\")\n",
        "lines(pdp.overL1.weight$Weight,pdp.overL1.weight$yhat,lwd=2,col=\"bisque\")\n",
        "lines(pdp.overL2.weight$Weight,pdp.overL2.weight$yhat,lwd=2,col=\"coral\")\n",
        "lines(pdp.obT1.weight$Weight,pdp.obT1.weight$yhat,lwd=2,col=\"brown1\")\n",
        "lines(pdp.obT2.weight$Weight,pdp.obT2.weight$yhat,lwd=2,col=\"brown3\")\n",
        "lines(pdp.obT3.weight$Weight,pdp.obT3.weight$yhat,lwd=2,col=\"brown4\")\n",
        "legend(2,0.9,c(\"Insufficient\", \"Normal\",\"Over L1\", \"Over L2\", \"Obese T1\", \"Obese T2\", \"Obese T3\"),\n",
        "       lty=c(1,1,1),col=c(\"cyan\",\"azure2\",\"bisque\",\"coral\",\"brown1\",\"brown3\",\"brown4\"))\n",
        "\n",
        "###----Transportation\n",
        "pdp.insuf.mtran <- partial(cv.bagged.tree, pred.var = c(\"Transportation\"),\n",
        "                            pred.fun = pred.prob.insufficient, plot = FALSE)\n",
        "pdp.norm.mtran <- partial(cv.bagged.tree, pred.var = c(\"Transportation\"),\n",
        "                           pred.fun = pred.prob.normal, plot = FALSE)\n",
        "pdp.overL1.mtran <- partial(cv.bagged.tree, pred.var = c(\"Transportation\"),\n",
        "                             pred.fun = pred.prob.overL1, plot = FALSE)\n",
        "pdp.overL2.mtran <- partial(cv.bagged.tree, pred.var = c(\"Transportation\"),\n",
        "                             pred.fun = pred.prob.overL2, plot = FALSE)\n",
        "pdp.obT1.mtran <- partial(cv.bagged.tree, pred.var = c(\"Transportation\"),\n",
        "                           pred.fun = pred.prob.obT1, plot = FALSE)\n",
        "pdp.obT2.mtran <- partial(cv.bagged.tree, pred.var = c(\"Transportation\"),\n",
        "                           pred.fun = pred.prob.obT2, plot = FALSE)\n",
        "pdp.obT3.mtran <- partial(cv.bagged.tree, pred.var = c(\"Transportation\"),\n",
        "                           pred.fun = pred.prob.obT3, plot = FALSE)\n",
        "\n",
        "plot(pdp.insuf.mtran$Transportation,pdp.insuf.mtran$yhat,\"l\",lwd=2,\n",
        "     col=\"cyan\",main=\"PDP Plot for Transportation Mode\",xlab=\"Weight\",ylab=\"Estimated probabilities\",\n",
        "     ylim=c(0,0.17))\n",
        "lines(pdp.norm.mtran$Transportation,pdp.norm.mtran$yhat,lwd=2,col=\"azure2\")\n",
        "lines(pdp.overL1.mtran$Transportation,pdp.overL1.mtran$yhat,lwd=2,col=\"bisque\")\n",
        "lines(pdp.overL2.mtran$Transportation,pdp.overL2.mtran$yhat,lwd=2,col=\"coral\")\n",
        "lines(pdp.obT1.mtran$Transportation,pdp.obT1.mtran$yhat,lwd=2,col=\"brown1\")\n",
        "lines(pdp.obT2.mtran$Transportation,pdp.obT2.mtran$yhat,lwd=2,col=\"brown3\")\n",
        "lines(pdp.obT3.mtran$Transportation,pdp.obT3.mtran$yhat,lwd=2,col=\"brown4\")\n",
        "legend(4.5,0.1,c(\"Insufficient\", \"Normal\",\"Over L1\", \"Over L2\", \"Obese T1\", \"Obese T2\", \"Obese T3\"),\n",
        "       lty=c(1,1,1),col=c(\"cyan\",\"azure2\",\"bisque\",\"coral\",\"brown1\",\"brown3\",\"brown4\"))"
      ],
      "metadata": {
        "id": "oF6-tVbALPxf"
      },
      "execution_count": null,
      "outputs": []
    },
    {
      "cell_type": "markdown",
      "source": [
        "STEP 9: Interaction Plots for Normal Weight category"
      ],
      "metadata": {
        "id": "nJIC_InlLavU"
      }
    },
    {
      "cell_type": "code",
      "source": [
        "###----Weight - Age\n",
        "pdp.normal.weight_age <- partial(cv.bagged.tree, pred.var = c(\"Weight\",\"Age\"),\n",
        "                    pred.bagged.tree = pred.prob.normal, plot = TRUE)\n",
        "###----Weight - Gender\n",
        "pdp.normal.weight_gender <- partial(cv.bagged.tree, pred.var = c(\"Weight\",\"Gender\"),\n",
        "                                 pred.bagged.tree = pred.prob.normal, plot = TRUE)\n",
        "\n",
        "pdp.normal.weight_gender\n",
        "###----Transportation - Gender\n",
        "pdp.normal.transportation_gender <- partial(cv.bagged.tree, pred.var = c(\"Transportation\",\"Gender\"),\n",
        "                                    pred.bagged.tree = pred.prob.normal, plot = TRUE)\n",
        "pdp.normal.transportation_gender"
      ],
      "metadata": {
        "id": "FMehxG3rLbb9"
      },
      "execution_count": null,
      "outputs": []
    },
    {
      "cell_type": "markdown",
      "source": [
        "STEP 10: New Data - John"
      ],
      "metadata": {
        "id": "ZIme-xxnLeXd"
      }
    },
    {
      "cell_type": "code",
      "source": [
        "newdata_john <- data.frame(Gender='Male',Age=31,Height=1.63,Weight=72,\n",
        "                           Fam_History='yes',Diet_HighCal='yes',Diet_Veg=2,\n",
        "                           Num_Meals=3,Snacks='Frequently',Smoke='yes',Water=2,\n",
        "                           Monitor='no',Exercise=0,Tech=3,Alcohol='Frequently',\n",
        "                           Transportation='Automobile')\n",
        "###---PreProcess John's data\n",
        "dataJohn_normalized <- predict(preprocess_params, newdata_john)\n",
        "pred_john <- predict(cv.bagged.tree,dataJohn_normalized,type=\"prob\")\n",
        "pred_john\n",
        "###--Make\n",
        "knn_john <- predict(best_knnModel, newdata_john, type=\"prob\")\n",
        "knn_john\n",
        "dt_john <- predict(pruned.ct, newdata_john, type=\"prob\")\n",
        "dt_john"
      ],
      "metadata": {
        "id": "filxmaxYLkE7"
      },
      "execution_count": null,
      "outputs": []
    },
    {
      "cell_type": "markdown",
      "source": [
        "**Conclusion**\n",
        ": There is a 64% probability that John is in the Normal_Weight category, but there’s also a 32% probability that he might be Overweight_Level_I. When sharing this information with John, we can let him know that the bagged trees model came to this conclusion as an aggregated combination of other decision tree models. We can reiterate that weight, height, vegetable intake, age and gender were probably the biggest factors that impacted the results.\n",
        "\n",
        "However, this should come as a caution since our other models contradicted this result:\n",
        "Our decision tree model predicted that John has 70.5% probability of being Obesity_Type_II and the KNN Model predicted him with Obesity_Type_III.\n",
        "These models are not preferred since we have a high dimensional data and 1 decision tree models are notoriously prone to overfitting."
      ],
      "metadata": {
        "id": "4rVWJNoPLlFD"
      }
    }
  ]
}