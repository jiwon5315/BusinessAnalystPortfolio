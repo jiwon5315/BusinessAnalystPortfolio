{
  "nbformat": 4,
  "nbformat_minor": 0,
  "metadata": {
    "colab": {
      "provenance": [],
      "authorship_tag": "ABX9TyMB5tlaVbjgaiOwWHET0N0f",
      "include_colab_link": true
    },
    "kernelspec": {
      "name": "ir",
      "display_name": "R"
    },
    "language_info": {
      "name": "R"
    }
  },
  "cells": [
    {
      "cell_type": "markdown",
      "metadata": {
        "id": "view-in-github",
        "colab_type": "text"
      },
      "source": [
        "<a href=\"https://colab.research.google.com/github/jiwon5315/BusinessAnalystPortfolio/blob/main/RFM_Analysis_for_Online_Retail.ipynb\" target=\"_parent\"><img src=\"https://colab.research.google.com/assets/colab-badge.svg\" alt=\"Open In Colab\"/></a>"
      ]
    },
    {
      "cell_type": "markdown",
      "source": [
        "*Inspired by the RFM chapter in the book **R All-in-One For Dummies** written by Joseph Schmuller*\n",
        "\n",
        "📖 **Background**\n",
        "RFM analysis stands for Recency-Frequency-Monetary values. The UC Irvine Machine Learning Repository has the [Online Retail](http://archive.ics.uci.edu/dataset/352/online+retail) dataset - which contains all the transactions occurring between 01/12/2010 and 09/12/2011 for a UK-based and registered non-store online retail.\n",
        "\n",
        "💾 **Data Columns**\n",
        ": InvoiceNo, StockCode, Description, Quantity, InvoiceDate, UnitPrice, CustomerID, Country\n",
        "\n",
        "✅ **Goal**\n",
        "1. We want to identify the top customers based on RFM results. Who are the top 20%?\n",
        "2. Based on the RFM scores, identify 'Champion' and 'Lost' customers.\n",
        "3. Summarize the key difference between the two customer segments."
      ],
      "metadata": {
        "id": "ZB6DuVRZ_3_w"
      }
    },
    {
      "cell_type": "code",
      "source": [
        "install.packages('readxl')\n",
        "library(readxl)"
      ],
      "metadata": {
        "colab": {
          "base_uri": "https://localhost:8080/"
        },
        "id": "FV5KyG68BPNH",
        "outputId": "4089269f-92e6-4cc0-b430-4963ef5ca6bc"
      },
      "execution_count": 19,
      "outputs": [
        {
          "output_type": "stream",
          "name": "stderr",
          "text": [
            "Installing package into ‘/usr/local/lib/R/site-library’\n",
            "(as ‘lib’ is unspecified)\n",
            "\n"
          ]
        }
      ]
    },
    {
      "cell_type": "code",
      "source": [
        "retailonline <- read_xlsx('/OnlineRetail.xlsx')\n",
        "head(retailonline)"
      ],
      "metadata": {
        "colab": {
          "base_uri": "https://localhost:8080/",
          "height": 286
        },
        "id": "BedhDCTxCyQN",
        "outputId": "e5ead295-156f-4223-edff-243971924790"
      },
      "execution_count": 4,
      "outputs": [
        {
          "output_type": "display_data",
          "data": {
            "text/html": [
              "<table class=\"dataframe\">\n",
              "<caption>A tibble: 6 × 8</caption>\n",
              "<thead>\n",
              "\t<tr><th scope=col>InvoiceNo</th><th scope=col>StockCode</th><th scope=col>Description</th><th scope=col>Quantity</th><th scope=col>InvoiceDate</th><th scope=col>UnitPrice</th><th scope=col>CustomerID</th><th scope=col>Country</th></tr>\n",
              "\t<tr><th scope=col>&lt;chr&gt;</th><th scope=col>&lt;chr&gt;</th><th scope=col>&lt;chr&gt;</th><th scope=col>&lt;dbl&gt;</th><th scope=col>&lt;dttm&gt;</th><th scope=col>&lt;dbl&gt;</th><th scope=col>&lt;dbl&gt;</th><th scope=col>&lt;chr&gt;</th></tr>\n",
              "</thead>\n",
              "<tbody>\n",
              "\t<tr><td>536365</td><td>85123A</td><td>WHITE HANGING HEART T-LIGHT HOLDER </td><td>6</td><td>2010-12-01 08:26:00</td><td>2.55</td><td>17850</td><td>United Kingdom</td></tr>\n",
              "\t<tr><td>536365</td><td>71053 </td><td>WHITE METAL LANTERN                </td><td>6</td><td>2010-12-01 08:26:00</td><td>3.39</td><td>17850</td><td>United Kingdom</td></tr>\n",
              "\t<tr><td>536365</td><td>84406B</td><td>CREAM CUPID HEARTS COAT HANGER     </td><td>8</td><td>2010-12-01 08:26:00</td><td>2.75</td><td>17850</td><td>United Kingdom</td></tr>\n",
              "\t<tr><td>536365</td><td>84029G</td><td>KNITTED UNION FLAG HOT WATER BOTTLE</td><td>6</td><td>2010-12-01 08:26:00</td><td>3.39</td><td>17850</td><td>United Kingdom</td></tr>\n",
              "\t<tr><td>536365</td><td>84029E</td><td>RED WOOLLY HOTTIE WHITE HEART.     </td><td>6</td><td>2010-12-01 08:26:00</td><td>3.39</td><td>17850</td><td>United Kingdom</td></tr>\n",
              "\t<tr><td>536365</td><td>22752 </td><td>SET 7 BABUSHKA NESTING BOXES       </td><td>2</td><td>2010-12-01 08:26:00</td><td>7.65</td><td>17850</td><td>United Kingdom</td></tr>\n",
              "</tbody>\n",
              "</table>\n"
            ],
            "text/markdown": "\nA tibble: 6 × 8\n\n| InvoiceNo &lt;chr&gt; | StockCode &lt;chr&gt; | Description &lt;chr&gt; | Quantity &lt;dbl&gt; | InvoiceDate &lt;dttm&gt; | UnitPrice &lt;dbl&gt; | CustomerID &lt;dbl&gt; | Country &lt;chr&gt; |\n|---|---|---|---|---|---|---|---|\n| 536365 | 85123A | WHITE HANGING HEART T-LIGHT HOLDER  | 6 | 2010-12-01 08:26:00 | 2.55 | 17850 | United Kingdom |\n| 536365 | 71053  | WHITE METAL LANTERN                 | 6 | 2010-12-01 08:26:00 | 3.39 | 17850 | United Kingdom |\n| 536365 | 84406B | CREAM CUPID HEARTS COAT HANGER      | 8 | 2010-12-01 08:26:00 | 2.75 | 17850 | United Kingdom |\n| 536365 | 84029G | KNITTED UNION FLAG HOT WATER BOTTLE | 6 | 2010-12-01 08:26:00 | 3.39 | 17850 | United Kingdom |\n| 536365 | 84029E | RED WOOLLY HOTTIE WHITE HEART.      | 6 | 2010-12-01 08:26:00 | 3.39 | 17850 | United Kingdom |\n| 536365 | 22752  | SET 7 BABUSHKA NESTING BOXES        | 2 | 2010-12-01 08:26:00 | 7.65 | 17850 | United Kingdom |\n\n",
            "text/latex": "A tibble: 6 × 8\n\\begin{tabular}{llllllll}\n InvoiceNo & StockCode & Description & Quantity & InvoiceDate & UnitPrice & CustomerID & Country\\\\\n <chr> & <chr> & <chr> & <dbl> & <dttm> & <dbl> & <dbl> & <chr>\\\\\n\\hline\n\t 536365 & 85123A & WHITE HANGING HEART T-LIGHT HOLDER  & 6 & 2010-12-01 08:26:00 & 2.55 & 17850 & United Kingdom\\\\\n\t 536365 & 71053  & WHITE METAL LANTERN                 & 6 & 2010-12-01 08:26:00 & 3.39 & 17850 & United Kingdom\\\\\n\t 536365 & 84406B & CREAM CUPID HEARTS COAT HANGER      & 8 & 2010-12-01 08:26:00 & 2.75 & 17850 & United Kingdom\\\\\n\t 536365 & 84029G & KNITTED UNION FLAG HOT WATER BOTTLE & 6 & 2010-12-01 08:26:00 & 3.39 & 17850 & United Kingdom\\\\\n\t 536365 & 84029E & RED WOOLLY HOTTIE WHITE HEART.      & 6 & 2010-12-01 08:26:00 & 3.39 & 17850 & United Kingdom\\\\\n\t 536365 & 22752  & SET 7 BABUSHKA NESTING BOXES        & 2 & 2010-12-01 08:26:00 & 7.65 & 17850 & United Kingdom\\\\\n\\end{tabular}\n",
            "text/plain": [
              "  InvoiceNo StockCode Description                         Quantity\n",
              "1 536365    85123A    WHITE HANGING HEART T-LIGHT HOLDER  6       \n",
              "2 536365    71053     WHITE METAL LANTERN                 6       \n",
              "3 536365    84406B    CREAM CUPID HEARTS COAT HANGER      8       \n",
              "4 536365    84029G    KNITTED UNION FLAG HOT WATER BOTTLE 6       \n",
              "5 536365    84029E    RED WOOLLY HOTTIE WHITE HEART.      6       \n",
              "6 536365    22752     SET 7 BABUSHKA NESTING BOXES        2       \n",
              "  InvoiceDate         UnitPrice CustomerID Country       \n",
              "1 2010-12-01 08:26:00 2.55      17850      United Kingdom\n",
              "2 2010-12-01 08:26:00 3.39      17850      United Kingdom\n",
              "3 2010-12-01 08:26:00 2.75      17850      United Kingdom\n",
              "4 2010-12-01 08:26:00 3.39      17850      United Kingdom\n",
              "5 2010-12-01 08:26:00 3.39      17850      United Kingdom\n",
              "6 2010-12-01 08:26:00 7.65      17850      United Kingdom"
            ]
          },
          "metadata": {}
        }
      ]
    },
    {
      "cell_type": "code",
      "source": [
        "#RFM in R\n",
        "install.packages('didrooRFM')\n",
        "library(didrooRFM)\n",
        "retailonline$Amount <- retailonline$Quantity*retailonline$UnitPrice\n",
        "\n",
        "#Prepping data for analysis\n",
        "#--Create dataframe with unique invoice number and invoice date\n",
        "firstPart <- unique(retailonline[,c('InvoiceNo','CustomerID','InvoiceDate')])\n",
        "#--Create dataframe with unique invoice number and total amount\n",
        "secondPart <- aggregate(list(Amount=retailonline$Amount),\n",
        "                        by=list(InvoiceNo=retailonline$InvoiceNo), FUN=sum)\n",
        "#--merge the two dataframes\n",
        "dataRFM <- merge(firstPart,secondPart, by=\"InvoiceNo\")\n",
        "#--reformat InvoiceDate\n",
        "dataRFM$InvoiceDate <- as.Date(dataRFM$InvoiceDate, format=\"%m/%d/%Y\")\n",
        "#--Remove rows without Customer ID\n",
        "dataRFM <- na.omit(dataRFM)\n",
        "summary(dataRFM)"
      ],
      "metadata": {
        "colab": {
          "base_uri": "https://localhost:8080/",
          "height": 191
        },
        "id": "-BKhSCxYCaS0",
        "outputId": "b296a0f3-6268-4c06-ccf7-f439ebb16844"
      },
      "execution_count": 5,
      "outputs": [
        {
          "output_type": "stream",
          "name": "stderr",
          "text": [
            "Installing package into ‘/usr/local/lib/R/site-library’\n",
            "(as ‘lib’ is unspecified)\n",
            "\n"
          ]
        },
        {
          "output_type": "display_data",
          "data": {
            "text/plain": [
              "  InvoiceNo           CustomerID     InvoiceDate             Amount          \n",
              " Length:22221       Min.   :12346   Min.   :2010-12-01   Min.   :-168469.60  \n",
              " Class :character   1st Qu.:13755   1st Qu.:2011-03-28   1st Qu.:     88.25  \n",
              " Mode  :character   Median :15136   Median :2011-07-08   Median :    241.74  \n",
              "                    Mean   :15238   Mean   :2011-06-29   Mean   :    374.39  \n",
              "                    3rd Qu.:16746   3rd Qu.:2011-10-10   3rd Qu.:    418.22  \n",
              "                    Max.   :18287   Max.   :2011-12-09   Max.   : 168469.60  "
            ]
          },
          "metadata": {}
        }
      ]
    },
    {
      "cell_type": "code",
      "source": [
        "resultsRFM <- findRFM(dataRFM)\n",
        "head(resultsRFM[,c('MeanValue','LastTransaction','NoTransaction')])"
      ],
      "metadata": {
        "colab": {
          "base_uri": "https://localhost:8080/",
          "height": 706
        },
        "id": "e4Y3PB8bDMGj",
        "outputId": "0b920968-8c0d-4c46-8213-07849c3b54de"
      },
      "execution_count": 51,
      "outputs": [
        {
          "output_type": "display_data",
          "data": {
            "text/html": [
              "<table class=\"dataframe\">\n",
              "<caption>A rowwise_df: 6 × 3</caption>\n",
              "<thead>\n",
              "\t<tr><th scope=col>MeanValue</th><th scope=col>LastTransaction</th><th scope=col>NoTransaction</th></tr>\n",
              "\t<tr><th scope=col>&lt;dbl&gt;</th><th scope=col>&lt;date&gt;</th><th scope=col>&lt;int&gt;</th></tr>\n",
              "</thead>\n",
              "<tbody>\n",
              "\t<tr><td>   0.0000</td><td>2011-01-18</td><td> 2</td></tr>\n",
              "\t<tr><td> 615.7143</td><td>2011-12-07</td><td> 7</td></tr>\n",
              "\t<tr><td> 449.3100</td><td>2011-09-25</td><td> 4</td></tr>\n",
              "\t<tr><td>1757.5500</td><td>2011-11-21</td><td> 1</td></tr>\n",
              "\t<tr><td> 334.4000</td><td>2011-02-02</td><td> 1</td></tr>\n",
              "\t<tr><td> 140.4918</td><td>2011-11-03</td><td>11</td></tr>\n",
              "</tbody>\n",
              "</table>\n"
            ],
            "text/markdown": "\nA rowwise_df: 6 × 3\n\n| MeanValue &lt;dbl&gt; | LastTransaction &lt;date&gt; | NoTransaction &lt;int&gt; |\n|---|---|---|\n|    0.0000 | 2011-01-18 |  2 |\n|  615.7143 | 2011-12-07 |  7 |\n|  449.3100 | 2011-09-25 |  4 |\n| 1757.5500 | 2011-11-21 |  1 |\n|  334.4000 | 2011-02-02 |  1 |\n|  140.4918 | 2011-11-03 | 11 |\n\n",
            "text/latex": "A rowwise\\_df: 6 × 3\n\\begin{tabular}{lll}\n MeanValue & LastTransaction & NoTransaction\\\\\n <dbl> & <date> & <int>\\\\\n\\hline\n\t    0.0000 & 2011-01-18 &  2\\\\\n\t  615.7143 & 2011-12-07 &  7\\\\\n\t  449.3100 & 2011-09-25 &  4\\\\\n\t 1757.5500 & 2011-11-21 &  1\\\\\n\t  334.4000 & 2011-02-02 &  1\\\\\n\t  140.4918 & 2011-11-03 & 11\\\\\n\\end{tabular}\n",
            "text/plain": [
              "  MeanValue LastTransaction NoTransaction\n",
              "1    0.0000 2011-01-18       2           \n",
              "2  615.7143 2011-12-07       7           \n",
              "3  449.3100 2011-09-25       4           \n",
              "4 1757.5500 2011-11-21       1           \n",
              "5  334.4000 2011-02-02       1           \n",
              "6  140.4918 2011-11-03      11           "
            ]
          },
          "metadata": {}
        },
        {
          "output_type": "display_data",
          "data": {
            "text/plain": [
              "Plot with title “Histogram of rfmData$FinalWeightedScore”"
            ],
            "image/png": "[encoded data removed]"
          },
          "metadata": {
            "image/png": {
              "width": 420,
              "height": 420
            }
          }
        }
      ]
    },
    {
      "cell_type": "code",
      "source": [
        "head(resultsRFM[,c('RecencyScore','FrequencyScore','MonetoryScore',\n",
        "  'FinalCustomerClass')])"
      ],
      "metadata": {
        "colab": {
          "base_uri": "https://localhost:8080/",
          "height": 286
        },
        "id": "tacjNHcoDTRw",
        "outputId": "4385b2ec-a420-4e9d-fdf4-efbb393d5b2d"
      },
      "execution_count": 11,
      "outputs": [
        {
          "output_type": "display_data",
          "data": {
            "text/html": [
              "<table class=\"dataframe\">\n",
              "<caption>A rowwise_df: 6 × 4</caption>\n",
              "<thead>\n",
              "\t<tr><th scope=col>RecencyScore</th><th scope=col>FrequencyScore</th><th scope=col>MonetoryScore</th><th scope=col>FinalCustomerClass</th></tr>\n",
              "\t<tr><th scope=col>&lt;dbl&gt;</th><th scope=col>&lt;dbl&gt;</th><th scope=col>&lt;dbl&gt;</th><th scope=col>&lt;chr&gt;</th></tr>\n",
              "</thead>\n",
              "<tbody>\n",
              "\t<tr><td>1</td><td>2</td><td>1</td><td>Class-1</td></tr>\n",
              "\t<tr><td>5</td><td>4</td><td>5</td><td>Class-4</td></tr>\n",
              "\t<tr><td>2</td><td>3</td><td>5</td><td>Class-3</td></tr>\n",
              "\t<tr><td>4</td><td>1</td><td>5</td><td>Class-3</td></tr>\n",
              "\t<tr><td>1</td><td>1</td><td>4</td><td>Class-2</td></tr>\n",
              "\t<tr><td>3</td><td>5</td><td>2</td><td>Class-3</td></tr>\n",
              "</tbody>\n",
              "</table>\n"
            ],
            "text/markdown": "\nA rowwise_df: 6 × 4\n\n| RecencyScore &lt;dbl&gt; | FrequencyScore &lt;dbl&gt; | MonetoryScore &lt;dbl&gt; | FinalCustomerClass &lt;chr&gt; |\n|---|---|---|---|\n| 1 | 2 | 1 | Class-1 |\n| 5 | 4 | 5 | Class-4 |\n| 2 | 3 | 5 | Class-3 |\n| 4 | 1 | 5 | Class-3 |\n| 1 | 1 | 4 | Class-2 |\n| 3 | 5 | 2 | Class-3 |\n\n",
            "text/latex": "A rowwise\\_df: 6 × 4\n\\begin{tabular}{llll}\n RecencyScore & FrequencyScore & MonetoryScore & FinalCustomerClass\\\\\n <dbl> & <dbl> & <dbl> & <chr>\\\\\n\\hline\n\t 1 & 2 & 1 & Class-1\\\\\n\t 5 & 4 & 5 & Class-4\\\\\n\t 2 & 3 & 5 & Class-3\\\\\n\t 4 & 1 & 5 & Class-3\\\\\n\t 1 & 1 & 4 & Class-2\\\\\n\t 3 & 5 & 2 & Class-3\\\\\n\\end{tabular}\n",
            "text/plain": [
              "  RecencyScore FrequencyScore MonetoryScore FinalCustomerClass\n",
              "1 1            2              1             Class-1           \n",
              "2 5            4              5             Class-4           \n",
              "3 2            3              5             Class-3           \n",
              "4 4            1              5             Class-3           \n",
              "5 1            1              4             Class-2           \n",
              "6 3            5              2             Class-3           "
            ]
          },
          "metadata": {}
        }
      ]
    },
    {
      "cell_type": "code",
      "source": [
        "tblClass <- table(resultsRFM$FinalCustomerClass)\n",
        "tblClass"
      ],
      "metadata": {
        "colab": {
          "base_uri": "https://localhost:8080/",
          "height": 69
        },
        "id": "Hy_4rBlvDb91",
        "outputId": "7b546e72-838b-4084-bf79-94717da70cab"
      },
      "execution_count": 12,
      "outputs": [
        {
          "output_type": "display_data",
          "data": {
            "text/plain": [
              "\n",
              "Class-1 Class-2 Class-3 Class-4 Class-5 \n",
              "    705    1442    1344     797      84 "
            ]
          },
          "metadata": {}
        }
      ]
    },
    {
      "cell_type": "markdown",
      "source": [
        "**Class 5** = Top 20% of Customers\n",
        "\n",
        ": There are 84 customers categorized as Class 5\n",
        "\n",
        "**Class 1** = Bottom 20% of Customers\n",
        "\n",
        ": There are 705 customers categorized as Class 1"
      ],
      "metadata": {
        "id": "7pk_FbvHDfxP"
      }
    },
    {
      "cell_type": "code",
      "source": [
        "install.packages('ggplot2')\n",
        "library(ggplot2)\n",
        "resultsRFM$Segment <- ifelse(resultsRFM$RecencyScore >= 4 &\n",
        "                               resultsRFM$FrequencyScore >= 4 &\n",
        "                               resultsRFM$MonetoryScore >= 4,\n",
        "                             \"Champion\",\n",
        "                             ifelse(resultsRFM$RecencyScore <= 1 &\n",
        "                                      resultsRFM$FrequencyScore <= 1,\n",
        "                                    \"Lost\",\n",
        "                                    \"Other\"))\n",
        "resultsRFM$Segment <- factor(resultsRFM$Segment, levels = c(\"Champion\", \"Other\", \"Lost\"))\n",
        "summary(resultsRFM$Segment)"
      ],
      "metadata": {
        "colab": {
          "base_uri": "https://localhost:8080/",
          "height": 86
        },
        "id": "JcMU1PRCDdg2",
        "outputId": "53126f5a-0e5b-4a5c-9c74-3ab14696efe6"
      },
      "execution_count": 18,
      "outputs": [
        {
          "output_type": "stream",
          "name": "stderr",
          "text": [
            "Installing package into ‘/usr/local/lib/R/site-library’\n",
            "(as ‘lib’ is unspecified)\n",
            "\n"
          ]
        },
        {
          "output_type": "display_data",
          "data": {
            "text/html": [
              "<style>\n",
              ".dl-inline {width: auto; margin:0; padding: 0}\n",
              ".dl-inline>dt, .dl-inline>dd {float: none; width: auto; display: inline-block}\n",
              ".dl-inline>dt::after {content: \":\\0020\"; padding-right: .5ex}\n",
              ".dl-inline>dt:not(:first-of-type) {padding-left: .5ex}\n",
              "</style><dl class=dl-inline><dt>Champion</dt><dd>412</dd><dt>Other</dt><dd>3412</dd><dt>Lost</dt><dd>548</dd></dl>\n"
            ],
            "text/markdown": "Champion\n:   412Other\n:   3412Lost\n:   548\n\n",
            "text/latex": "\\begin{description*}\n\\item[Champion] 412\n\\item[Other] 3412\n\\item[Lost] 548\n\\end{description*}\n",
            "text/plain": [
              "Champion    Other     Lost \n",
              "     412     3412      548 "
            ]
          },
          "metadata": {}
        }
      ]
    },
    {
      "cell_type": "markdown",
      "source": [
        "Champion customers are those with a recency, frequency, and monetary score all >= 4, whereas lost customers are those with recency and frequency score of 1.\n",
        "There are more lost customers than champion customers."
      ],
      "metadata": {
        "id": "mumtcDkVEt_s"
      }
    },
    {
      "cell_type": "code",
      "source": [
        "#Recency comparison\n",
        "ggplot(resultsRFM, aes(x=Segment,y=LastTransaction))+geom_boxplot()+labs(x=\"Customer Types\")"
      ],
      "metadata": {
        "colab": {
          "base_uri": "https://localhost:8080/",
          "height": 437
        },
        "id": "ZTqqUfDuEXV5",
        "outputId": "8afd1f8d-9441-4135-8274-645f7bf32e0b"
      },
      "execution_count": 17,
      "outputs": [
        {
          "output_type": "display_data",
          "data": {
            "text/plain": [
              "plot without title"
            ],
            "image/png": "[encoded data removed]"
          },
          "metadata": {
            "image/png": {
              "width": 420,
              "height": 420
            }
          }
        }
      ]
    },
    {
      "cell_type": "code",
      "source": [
        "#Frequency comparison\n",
        "ggplot(resultsRFM,aes(x=Segment,y=NoTransaction))+geom_boxplot()+labs(x=\"Customer Types\")"
      ],
      "metadata": {
        "colab": {
          "base_uri": "https://localhost:8080/",
          "height": 437
        },
        "id": "sjeCCbtNEINW",
        "outputId": "4d118e58-22a1-4a72-f8dd-2c76badbd131"
      },
      "execution_count": 15,
      "outputs": [
        {
          "output_type": "display_data",
          "data": {
            "text/plain": [
              "plot without title"
            ],
            "image/png": "[encoded data removed]"
          },
          "metadata": {
            "image/png": {
              "width": 420,
              "height": 420
            }
          }
        }
      ]
    },
    {
      "cell_type": "code",
      "source": [
        "#Monetary comparison\n",
        "ggplot(resultsRFM,aes(x=Segment,y=MeanValue))+geom_boxplot()+labs(x=\"Customer Types\")"
      ],
      "metadata": {
        "colab": {
          "base_uri": "https://localhost:8080/",
          "height": 437
        },
        "id": "-rSfjx6QEK-u",
        "outputId": "f88cf5fb-fa3b-40b3-e042-0999dcbde2ce"
      },
      "execution_count": 16,
      "outputs": [
        {
          "output_type": "display_data",
          "data": {
            "text/plain": [
              "plot without title"
            ],
            "image/png": "[encoded data removed]"
          },
          "metadata": {
            "image/png": {
              "width": 420,
              "height": 420
            }
          }
        }
      ]
    },
    {
      "cell_type": "code",
      "source": [
        "install.packages('dplyr')\n",
        "library(dplyr)\n",
        "Champions <- subset(resultsRFM, (RecencyScore>=4 & FrequencyScore>=4 &\n",
        "                                      MonetoryScore>=4))\n",
        "Champions$CustomerID <- as.numeric(Champions$CustomerID)\n",
        "Champions_analysis <- right_join(retailonline, Champions, by='CustomerID')"
      ],
      "metadata": {
        "colab": {
          "base_uri": "https://localhost:8080/"
        },
        "id": "Yqb_oHU9FLoA",
        "outputId": "82002870-0ad1-46b0-80b1-ac85a5968697"
      },
      "execution_count": 24,
      "outputs": [
        {
          "output_type": "stream",
          "name": "stderr",
          "text": [
            "Installing package into ‘/usr/local/lib/R/site-library’\n",
            "(as ‘lib’ is unspecified)\n",
            "\n"
          ]
        }
      ]
    },
    {
      "cell_type": "code",
      "source": [
        "Lost <- subset(resultsRFM, (RecencyScore <=1 & FrequencyScore <= 1))\n",
        "Lost$CustomerID <- as.numeric(Lost$CustomerID)\n",
        "Lost_analysis <- right_join(retailonline, Lost, by='CustomerID')"
      ],
      "metadata": {
        "id": "nye5EtT7J4cn"
      },
      "execution_count": 48,
      "outputs": []
    },
    {
      "cell_type": "code",
      "source": [
        "Champions_analysis %>%\n",
        "group_by(Country) %>%\n",
        "summarise(totalquantity=sum(Quantity),\n",
        "                    totalamount=sum(Amount)) %>%\n",
        "arrange(desc(totalquantity)) %>%\n",
        "slice_head(n=5)"
      ],
      "metadata": {
        "colab": {
          "base_uri": "https://localhost:8080/",
          "height": 255
        },
        "id": "KzP41yIMGcA4",
        "outputId": "ddbd85fb-7a59-4fc4-9c68-40e04dbfbda0"
      },
      "execution_count": 59,
      "outputs": [
        {
          "output_type": "display_data",
          "data": {
            "text/html": [
              "<table class=\"dataframe\">\n",
              "<caption>A tibble: 5 × 3</caption>\n",
              "<thead>\n",
              "\t<tr><th scope=col>Country</th><th scope=col>totalquantity</th><th scope=col>totalamount</th></tr>\n",
              "\t<tr><th scope=col>&lt;chr&gt;</th><th scope=col>&lt;dbl&gt;</th><th scope=col>&lt;dbl&gt;</th></tr>\n",
              "</thead>\n",
              "<tbody>\n",
              "\t<tr><td>United Kingdom</td><td>1763082</td><td>3174486.8</td></tr>\n",
              "\t<tr><td>Netherlands   </td><td> 196719</td><td> 279489.0</td></tr>\n",
              "\t<tr><td>EIRE          </td><td> 134205</td><td> 245956.8</td></tr>\n",
              "\t<tr><td>Australia     </td><td>  78704</td><td> 126506.1</td></tr>\n",
              "\t<tr><td>France        </td><td>  62762</td><td> 113841.0</td></tr>\n",
              "</tbody>\n",
              "</table>\n"
            ],
            "text/markdown": "\nA tibble: 5 × 3\n\n| Country &lt;chr&gt; | totalquantity &lt;dbl&gt; | totalamount &lt;dbl&gt; |\n|---|---|---|\n| United Kingdom | 1763082 | 3174486.8 |\n| Netherlands    |  196719 |  279489.0 |\n| EIRE           |  134205 |  245956.8 |\n| Australia      |   78704 |  126506.1 |\n| France         |   62762 |  113841.0 |\n\n",
            "text/latex": "A tibble: 5 × 3\n\\begin{tabular}{lll}\n Country & totalquantity & totalamount\\\\\n <chr> & <dbl> & <dbl>\\\\\n\\hline\n\t United Kingdom & 1763082 & 3174486.8\\\\\n\t Netherlands    &  196719 &  279489.0\\\\\n\t EIRE           &  134205 &  245956.8\\\\\n\t Australia      &   78704 &  126506.1\\\\\n\t France         &   62762 &  113841.0\\\\\n\\end{tabular}\n",
            "text/plain": [
              "  Country        totalquantity totalamount\n",
              "1 United Kingdom 1763082       3174486.8  \n",
              "2 Netherlands     196719        279489.0  \n",
              "3 EIRE            134205        245956.8  \n",
              "4 Australia        78704        126506.1  \n",
              "5 France           62762        113841.0  "
            ]
          },
          "metadata": {}
        }
      ]
    },
    {
      "cell_type": "code",
      "source": [
        "Lost_analysis %>%\n",
        "group_by(Country) %>%\n",
        "summarise(totalquantity=sum(Quantity),\n",
        "                    totalamount=sum(Amount)) %>%\n",
        "arrange(desc(totalquantity)) %>%\n",
        "slice_head(n=5)"
      ],
      "metadata": {
        "colab": {
          "base_uri": "https://localhost:8080/",
          "height": 255
        },
        "id": "thswQXPjID_I",
        "outputId": "13d06b14-fbb5-44bf-b0f2-9e9a74e0de60"
      },
      "execution_count": 58,
      "outputs": [
        {
          "output_type": "display_data",
          "data": {
            "text/html": [
              "<table class=\"dataframe\">\n",
              "<caption>A tibble: 5 × 3</caption>\n",
              "<thead>\n",
              "\t<tr><th scope=col>Country</th><th scope=col>totalquantity</th><th scope=col>totalamount</th></tr>\n",
              "\t<tr><th scope=col>&lt;chr&gt;</th><th scope=col>&lt;dbl&gt;</th><th scope=col>&lt;dbl&gt;</th></tr>\n",
              "</thead>\n",
              "<tbody>\n",
              "\t<tr><td>United Kingdom </td><td>76925</td><td>129126.60</td></tr>\n",
              "\t<tr><td>France         </td><td> 1579</td><td>  3596.50</td></tr>\n",
              "\t<tr><td>Germany        </td><td> 1153</td><td>  2185.93</td></tr>\n",
              "\t<tr><td>Channel Islands</td><td> 1015</td><td>  2148.24</td></tr>\n",
              "\t<tr><td>Italy          </td><td>  962</td><td>  2277.53</td></tr>\n",
              "</tbody>\n",
              "</table>\n"
            ],
            "text/markdown": "\nA tibble: 5 × 3\n\n| Country &lt;chr&gt; | totalquantity &lt;dbl&gt; | totalamount &lt;dbl&gt; |\n|---|---|---|\n| United Kingdom  | 76925 | 129126.60 |\n| France          |  1579 |   3596.50 |\n| Germany         |  1153 |   2185.93 |\n| Channel Islands |  1015 |   2148.24 |\n| Italy           |   962 |   2277.53 |\n\n",
            "text/latex": "A tibble: 5 × 3\n\\begin{tabular}{lll}\n Country & totalquantity & totalamount\\\\\n <chr> & <dbl> & <dbl>\\\\\n\\hline\n\t United Kingdom  & 76925 & 129126.60\\\\\n\t France          &  1579 &   3596.50\\\\\n\t Germany         &  1153 &   2185.93\\\\\n\t Channel Islands &  1015 &   2148.24\\\\\n\t Italy           &   962 &   2277.53\\\\\n\\end{tabular}\n",
            "text/plain": [
              "  Country         totalquantity totalamount\n",
              "1 United Kingdom  76925         129126.60  \n",
              "2 France           1579           3596.50  \n",
              "3 Germany          1153           2185.93  \n",
              "4 Channel Islands  1015           2148.24  \n",
              "5 Italy             962           2277.53  "
            ]
          },
          "metadata": {}
        }
      ]
    },
    {
      "cell_type": "markdown",
      "source": [
        "We can see that UK, Netherlands, EIRE (Ireland), Australia, and Germany were the Top 5 most ordered countries found among champion customers while UK, France, Greece, Italy, and Germany were ranked as Top 5 among lost customers.\n",
        "\n",
        "Based on the numbers, there is no doubt that UK is the primary market. Customer service might want to focus on satisfying lost customers in Top 5 countries to see if there are any regional, linguistic or cultural issues.  "
      ],
      "metadata": {
        "id": "oAzAZa7QKNRX"
      }
    },
    {
      "cell_type": "code",
      "source": [
        "Champions_analysis %>%\n",
        "group_by(Description) %>%\n",
        "summarise(totalquantity=sum(Quantity),\n",
        "                    totalamount=sum(Amount)) %>%\n",
        "arrange(desc(totalamount)) %>%\n",
        "slice_head(n=5)"
      ],
      "metadata": {
        "colab": {
          "base_uri": "https://localhost:8080/",
          "height": 255
        },
        "id": "6xTsxXYhLxMK",
        "outputId": "ae38f15b-a8bf-461e-e280-8590920a137a"
      },
      "execution_count": 64,
      "outputs": [
        {
          "output_type": "display_data",
          "data": {
            "text/html": [
              "<table class=\"dataframe\">\n",
              "<caption>A tibble: 5 × 3</caption>\n",
              "<thead>\n",
              "\t<tr><th scope=col>Description</th><th scope=col>totalquantity</th><th scope=col>totalamount</th></tr>\n",
              "\t<tr><th scope=col>&lt;chr&gt;</th><th scope=col>&lt;dbl&gt;</th><th scope=col>&lt;dbl&gt;</th></tr>\n",
              "</thead>\n",
              "<tbody>\n",
              "\t<tr><td>REGENCY CAKESTAND 3 TIER          </td><td> 7439</td><td>83876.10</td></tr>\n",
              "\t<tr><td>WHITE HANGING HEART T-LIGHT HOLDER</td><td>19709</td><td>54040.05</td></tr>\n",
              "\t<tr><td>JUMBO BAG RED RETROSPOT           </td><td>28634</td><td>51892.11</td></tr>\n",
              "\t<tr><td>PARTY BUNTING                     </td><td> 7195</td><td>31485.43</td></tr>\n",
              "\t<tr><td>ASSORTED COLOUR BIRD ORNAMENT     </td><td>19855</td><td>30961.03</td></tr>\n",
              "</tbody>\n",
              "</table>\n"
            ],
            "text/markdown": "\nA tibble: 5 × 3\n\n| Description &lt;chr&gt; | totalquantity &lt;dbl&gt; | totalamount &lt;dbl&gt; |\n|---|---|---|\n| REGENCY CAKESTAND 3 TIER           |  7439 | 83876.10 |\n| WHITE HANGING HEART T-LIGHT HOLDER | 19709 | 54040.05 |\n| JUMBO BAG RED RETROSPOT            | 28634 | 51892.11 |\n| PARTY BUNTING                      |  7195 | 31485.43 |\n| ASSORTED COLOUR BIRD ORNAMENT      | 19855 | 30961.03 |\n\n",
            "text/latex": "A tibble: 5 × 3\n\\begin{tabular}{lll}\n Description & totalquantity & totalamount\\\\\n <chr> & <dbl> & <dbl>\\\\\n\\hline\n\t REGENCY CAKESTAND 3 TIER           &  7439 & 83876.10\\\\\n\t WHITE HANGING HEART T-LIGHT HOLDER & 19709 & 54040.05\\\\\n\t JUMBO BAG RED RETROSPOT            & 28634 & 51892.11\\\\\n\t PARTY BUNTING                      &  7195 & 31485.43\\\\\n\t ASSORTED COLOUR BIRD ORNAMENT      & 19855 & 30961.03\\\\\n\\end{tabular}\n",
            "text/plain": [
              "  Description                        totalquantity totalamount\n",
              "1 REGENCY CAKESTAND 3 TIER            7439         83876.10   \n",
              "2 WHITE HANGING HEART T-LIGHT HOLDER 19709         54040.05   \n",
              "3 JUMBO BAG RED RETROSPOT            28634         51892.11   \n",
              "4 PARTY BUNTING                       7195         31485.43   \n",
              "5 ASSORTED COLOUR BIRD ORNAMENT      19855         30961.03   "
            ]
          },
          "metadata": {}
        }
      ]
    },
    {
      "cell_type": "code",
      "source": [
        "Lost_analysis %>%\n",
        "group_by(Description) %>%\n",
        "summarise(totalquantity=sum(Quantity),\n",
        "                    totalamount=sum(Amount)) %>%\n",
        "arrange(desc(totalamount)) %>%\n",
        "slice_head(n=5)"
      ],
      "metadata": {
        "colab": {
          "base_uri": "https://localhost:8080/",
          "height": 255
        },
        "id": "cA-mMpB_NgNs",
        "outputId": "3c09f8f4-1a00-4554-a685-ac55acc02bd3"
      },
      "execution_count": 63,
      "outputs": [
        {
          "output_type": "display_data",
          "data": {
            "text/html": [
              "<table class=\"dataframe\">\n",
              "<caption>A tibble: 5 × 3</caption>\n",
              "<thead>\n",
              "\t<tr><th scope=col>Description</th><th scope=col>totalquantity</th><th scope=col>totalamount</th></tr>\n",
              "\t<tr><th scope=col>&lt;chr&gt;</th><th scope=col>&lt;dbl&gt;</th><th scope=col>&lt;dbl&gt;</th></tr>\n",
              "</thead>\n",
              "<tbody>\n",
              "\t<tr><td>SMALL POPCORN HOLDER              </td><td>4428</td><td>3204.80</td></tr>\n",
              "\t<tr><td>REGENCY CAKESTAND 3 TIER          </td><td> 257</td><td>3046.35</td></tr>\n",
              "\t<tr><td>WHITE HANGING HEART T-LIGHT HOLDER</td><td> 654</td><td>1839.70</td></tr>\n",
              "\t<tr><td>RED  HARMONICA IN BOX             </td><td>1569</td><td>1695.25</td></tr>\n",
              "\t<tr><td>PARTY BUNTING                     </td><td> 365</td><td>1674.15</td></tr>\n",
              "</tbody>\n",
              "</table>\n"
            ],
            "text/markdown": "\nA tibble: 5 × 3\n\n| Description &lt;chr&gt; | totalquantity &lt;dbl&gt; | totalamount &lt;dbl&gt; |\n|---|---|---|\n| SMALL POPCORN HOLDER               | 4428 | 3204.80 |\n| REGENCY CAKESTAND 3 TIER           |  257 | 3046.35 |\n| WHITE HANGING HEART T-LIGHT HOLDER |  654 | 1839.70 |\n| RED  HARMONICA IN BOX              | 1569 | 1695.25 |\n| PARTY BUNTING                      |  365 | 1674.15 |\n\n",
            "text/latex": "A tibble: 5 × 3\n\\begin{tabular}{lll}\n Description & totalquantity & totalamount\\\\\n <chr> & <dbl> & <dbl>\\\\\n\\hline\n\t SMALL POPCORN HOLDER               & 4428 & 3204.80\\\\\n\t REGENCY CAKESTAND 3 TIER           &  257 & 3046.35\\\\\n\t WHITE HANGING HEART T-LIGHT HOLDER &  654 & 1839.70\\\\\n\t RED  HARMONICA IN BOX              & 1569 & 1695.25\\\\\n\t PARTY BUNTING                      &  365 & 1674.15\\\\\n\\end{tabular}\n",
            "text/plain": [
              "  Description                        totalquantity totalamount\n",
              "1 SMALL POPCORN HOLDER               4428          3204.80    \n",
              "2 REGENCY CAKESTAND 3 TIER            257          3046.35    \n",
              "3 WHITE HANGING HEART T-LIGHT HOLDER  654          1839.70    \n",
              "4 RED  HARMONICA IN BOX              1569          1695.25    \n",
              "5 PARTY BUNTING                       365          1674.15    "
            ]
          },
          "metadata": {}
        }
      ]
    },
    {
      "cell_type": "markdown",
      "source": [
        "REGENCY CAKESTAND 3 TIER, WHITE HANGING HEART T-LIGHT HOLDER and PARTY BUNTING are profitable products regardless of the customer segment, so putting extra attention on how to retain lost customers with strategies such as membership discounts, upselling and cross-selling other popular products would be crucial.  "
      ],
      "metadata": {
        "id": "Tl9r0P5UN-2V"
      }
    }
  ]
}